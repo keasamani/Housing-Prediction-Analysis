{
 "cells": [
  {
   "cell_type": "code",
   "execution_count": 241,
   "id": "5ec772ed",
   "metadata": {},
   "outputs": [],
   "source": [
    "# -- Data Manipulation Libraries\n",
    "import pandas as pd    \n",
    "import numpy as np     \n",
    "\n",
    "# -- Data Visualization Libraries\n",
    "from matplotlib import pyplot as plt  \n",
    "import seaborn as sns \n",
    "import plotly.express as px\n",
    "import plotly.graph_objects as go"
   ]
  },
  {
   "cell_type": "code",
   "execution_count": 242,
   "id": "b96548c4",
   "metadata": {},
   "outputs": [],
   "source": [
    "# -- Machine Learning Libraries\n",
    "from sklearn.model_selection import train_test_split  # splitting of datasets\n",
    "from sklearn import feature_selection  # identification and selection of the most important features for machine learning models.\n",
    "from sklearn import model_selection  # model selection and evaluation\n",
    "from sklearn.metrics import accuracy_score # comparing the predicted labels to the true labels.\n",
    "from sklearn.linear_model import LogisticRegression # a linear model used for binary classification tasks.\n",
    "from sklearn.svm import SVC # [Support Vector Classification], a supervised learning algorithm used for classification tasks, capable of handling linear and non-linear decision boundaries.\n",
    "from sklearn.naive_bayes import GaussianNB # simple probabilistic classifier based on Bayes there\n",
    "from sklearn.ensemble import RandomForestClassifier,GradientBoostingClassifier\n",
    "from sklearn.neighbors import KNeighborsClassifier\n",
    "\n",
    "#Loading regression model\n",
    "from sklearn.linear_model import LinearRegression\n",
    "\n",
    "## evealuation metric\n",
    "from sklearn.metrics import mean_absolute_error, mean_squared_error, r2_score\n",
    "\n",
    "from pandas_profiling import ProfileReport\n",
    "\n",
    "import warnings\n",
    "warnings.filterwarnings('ignore')"
   ]
  },
  {
   "cell_type": "code",
   "execution_count": 243,
   "id": "8bc30e2f",
   "metadata": {},
   "outputs": [],
   "source": [
    "# Loading of datasets\n",
    "data = pd.read_csv('/Users/mac/Desktop/data science gi-kace/Housing.csv')"
   ]
  },
  {
   "cell_type": "code",
   "execution_count": 244,
   "id": "5cd24ea1",
   "metadata": {},
   "outputs": [
    {
     "data": {
      "text/html": [
       "<div>\n",
       "<style scoped>\n",
       "    .dataframe tbody tr th:only-of-type {\n",
       "        vertical-align: middle;\n",
       "    }\n",
       "\n",
       "    .dataframe tbody tr th {\n",
       "        vertical-align: top;\n",
       "    }\n",
       "\n",
       "    .dataframe thead th {\n",
       "        text-align: right;\n",
       "    }\n",
       "</style>\n",
       "<table border=\"1\" class=\"dataframe\">\n",
       "  <thead>\n",
       "    <tr style=\"text-align: right;\">\n",
       "      <th></th>\n",
       "      <th>price</th>\n",
       "      <th>area</th>\n",
       "      <th>bedrooms</th>\n",
       "      <th>bathrooms</th>\n",
       "      <th>stories</th>\n",
       "      <th>mainroad</th>\n",
       "      <th>guestroom</th>\n",
       "      <th>basement</th>\n",
       "      <th>hotwaterheating</th>\n",
       "      <th>airconditioning</th>\n",
       "      <th>parking</th>\n",
       "      <th>prefarea</th>\n",
       "      <th>furnishingstatus</th>\n",
       "    </tr>\n",
       "  </thead>\n",
       "  <tbody>\n",
       "    <tr>\n",
       "      <th>0</th>\n",
       "      <td>13300000</td>\n",
       "      <td>7420</td>\n",
       "      <td>4</td>\n",
       "      <td>2</td>\n",
       "      <td>3</td>\n",
       "      <td>yes</td>\n",
       "      <td>no</td>\n",
       "      <td>no</td>\n",
       "      <td>no</td>\n",
       "      <td>yes</td>\n",
       "      <td>2</td>\n",
       "      <td>yes</td>\n",
       "      <td>furnished</td>\n",
       "    </tr>\n",
       "    <tr>\n",
       "      <th>1</th>\n",
       "      <td>12250000</td>\n",
       "      <td>8960</td>\n",
       "      <td>4</td>\n",
       "      <td>4</td>\n",
       "      <td>4</td>\n",
       "      <td>yes</td>\n",
       "      <td>no</td>\n",
       "      <td>no</td>\n",
       "      <td>no</td>\n",
       "      <td>yes</td>\n",
       "      <td>3</td>\n",
       "      <td>no</td>\n",
       "      <td>furnished</td>\n",
       "    </tr>\n",
       "    <tr>\n",
       "      <th>2</th>\n",
       "      <td>12250000</td>\n",
       "      <td>9960</td>\n",
       "      <td>3</td>\n",
       "      <td>2</td>\n",
       "      <td>2</td>\n",
       "      <td>yes</td>\n",
       "      <td>no</td>\n",
       "      <td>yes</td>\n",
       "      <td>no</td>\n",
       "      <td>no</td>\n",
       "      <td>2</td>\n",
       "      <td>yes</td>\n",
       "      <td>semi-furnished</td>\n",
       "    </tr>\n",
       "    <tr>\n",
       "      <th>3</th>\n",
       "      <td>12215000</td>\n",
       "      <td>7500</td>\n",
       "      <td>4</td>\n",
       "      <td>2</td>\n",
       "      <td>2</td>\n",
       "      <td>yes</td>\n",
       "      <td>no</td>\n",
       "      <td>yes</td>\n",
       "      <td>no</td>\n",
       "      <td>yes</td>\n",
       "      <td>3</td>\n",
       "      <td>yes</td>\n",
       "      <td>furnished</td>\n",
       "    </tr>\n",
       "    <tr>\n",
       "      <th>4</th>\n",
       "      <td>11410000</td>\n",
       "      <td>7420</td>\n",
       "      <td>4</td>\n",
       "      <td>1</td>\n",
       "      <td>2</td>\n",
       "      <td>yes</td>\n",
       "      <td>yes</td>\n",
       "      <td>yes</td>\n",
       "      <td>no</td>\n",
       "      <td>yes</td>\n",
       "      <td>2</td>\n",
       "      <td>no</td>\n",
       "      <td>furnished</td>\n",
       "    </tr>\n",
       "  </tbody>\n",
       "</table>\n",
       "</div>"
      ],
      "text/plain": [
       "      price  area  bedrooms  bathrooms  stories mainroad guestroom basement  \\\n",
       "0  13300000  7420         4          2        3      yes        no       no   \n",
       "1  12250000  8960         4          4        4      yes        no       no   \n",
       "2  12250000  9960         3          2        2      yes        no      yes   \n",
       "3  12215000  7500         4          2        2      yes        no      yes   \n",
       "4  11410000  7420         4          1        2      yes       yes      yes   \n",
       "\n",
       "  hotwaterheating airconditioning  parking prefarea furnishingstatus  \n",
       "0              no             yes        2      yes        furnished  \n",
       "1              no             yes        3       no        furnished  \n",
       "2              no              no        2      yes   semi-furnished  \n",
       "3              no             yes        3      yes        furnished  \n",
       "4              no             yes        2       no        furnished  "
      ]
     },
     "execution_count": 244,
     "metadata": {},
     "output_type": "execute_result"
    }
   ],
   "source": [
    "data.head() #looking at the first five rows in the dataset"
   ]
  },
  {
   "cell_type": "code",
   "execution_count": 245,
   "id": "4a09fbcc",
   "metadata": {},
   "outputs": [
    {
     "data": {
      "text/plain": [
       "(545, 13)"
      ]
     },
     "execution_count": 245,
     "metadata": {},
     "output_type": "execute_result"
    }
   ],
   "source": [
    "data.shape # looking at the number of rows and columns "
   ]
  },
  {
   "cell_type": "code",
   "execution_count": 246,
   "id": "1a18379c",
   "metadata": {},
   "outputs": [
    {
     "data": {
      "text/html": [
       "<div>\n",
       "<style scoped>\n",
       "    .dataframe tbody tr th:only-of-type {\n",
       "        vertical-align: middle;\n",
       "    }\n",
       "\n",
       "    .dataframe tbody tr th {\n",
       "        vertical-align: top;\n",
       "    }\n",
       "\n",
       "    .dataframe thead th {\n",
       "        text-align: right;\n",
       "    }\n",
       "</style>\n",
       "<table border=\"1\" class=\"dataframe\">\n",
       "  <thead>\n",
       "    <tr style=\"text-align: right;\">\n",
       "      <th></th>\n",
       "      <th>price</th>\n",
       "      <th>area</th>\n",
       "      <th>bedrooms</th>\n",
       "      <th>bathrooms</th>\n",
       "      <th>stories</th>\n",
       "      <th>parking</th>\n",
       "    </tr>\n",
       "  </thead>\n",
       "  <tbody>\n",
       "    <tr>\n",
       "      <th>count</th>\n",
       "      <td>545.0</td>\n",
       "      <td>545.0</td>\n",
       "      <td>545.0</td>\n",
       "      <td>545.0</td>\n",
       "      <td>545.0</td>\n",
       "      <td>545.0</td>\n",
       "    </tr>\n",
       "    <tr>\n",
       "      <th>mean</th>\n",
       "      <td>4766729.0</td>\n",
       "      <td>5151.0</td>\n",
       "      <td>3.0</td>\n",
       "      <td>1.0</td>\n",
       "      <td>2.0</td>\n",
       "      <td>1.0</td>\n",
       "    </tr>\n",
       "    <tr>\n",
       "      <th>std</th>\n",
       "      <td>1870440.0</td>\n",
       "      <td>2170.0</td>\n",
       "      <td>1.0</td>\n",
       "      <td>1.0</td>\n",
       "      <td>1.0</td>\n",
       "      <td>1.0</td>\n",
       "    </tr>\n",
       "    <tr>\n",
       "      <th>min</th>\n",
       "      <td>1750000.0</td>\n",
       "      <td>1650.0</td>\n",
       "      <td>1.0</td>\n",
       "      <td>1.0</td>\n",
       "      <td>1.0</td>\n",
       "      <td>0.0</td>\n",
       "    </tr>\n",
       "    <tr>\n",
       "      <th>25%</th>\n",
       "      <td>3430000.0</td>\n",
       "      <td>3600.0</td>\n",
       "      <td>2.0</td>\n",
       "      <td>1.0</td>\n",
       "      <td>1.0</td>\n",
       "      <td>0.0</td>\n",
       "    </tr>\n",
       "    <tr>\n",
       "      <th>50%</th>\n",
       "      <td>4340000.0</td>\n",
       "      <td>4600.0</td>\n",
       "      <td>3.0</td>\n",
       "      <td>1.0</td>\n",
       "      <td>2.0</td>\n",
       "      <td>0.0</td>\n",
       "    </tr>\n",
       "    <tr>\n",
       "      <th>75%</th>\n",
       "      <td>5740000.0</td>\n",
       "      <td>6360.0</td>\n",
       "      <td>3.0</td>\n",
       "      <td>2.0</td>\n",
       "      <td>2.0</td>\n",
       "      <td>1.0</td>\n",
       "    </tr>\n",
       "    <tr>\n",
       "      <th>max</th>\n",
       "      <td>13300000.0</td>\n",
       "      <td>16200.0</td>\n",
       "      <td>6.0</td>\n",
       "      <td>4.0</td>\n",
       "      <td>4.0</td>\n",
       "      <td>3.0</td>\n",
       "    </tr>\n",
       "  </tbody>\n",
       "</table>\n",
       "</div>"
      ],
      "text/plain": [
       "            price     area  bedrooms  bathrooms  stories  parking\n",
       "count       545.0    545.0     545.0      545.0    545.0    545.0\n",
       "mean    4766729.0   5151.0       3.0        1.0      2.0      1.0\n",
       "std     1870440.0   2170.0       1.0        1.0      1.0      1.0\n",
       "min     1750000.0   1650.0       1.0        1.0      1.0      0.0\n",
       "25%     3430000.0   3600.0       2.0        1.0      1.0      0.0\n",
       "50%     4340000.0   4600.0       3.0        1.0      2.0      0.0\n",
       "75%     5740000.0   6360.0       3.0        2.0      2.0      1.0\n",
       "max    13300000.0  16200.0       6.0        4.0      4.0      3.0"
      ]
     },
     "execution_count": 246,
     "metadata": {},
     "output_type": "execute_result"
    }
   ],
   "source": [
    "data.describe().round() # descriptive statistics of the dataset"
   ]
  },
  {
   "cell_type": "code",
   "execution_count": 247,
   "id": "f36f2554",
   "metadata": {},
   "outputs": [
    {
     "name": "stdout",
     "output_type": "stream",
     "text": [
      "<class 'pandas.core.frame.DataFrame'>\n",
      "RangeIndex: 545 entries, 0 to 544\n",
      "Data columns (total 13 columns):\n",
      " #   Column            Non-Null Count  Dtype \n",
      "---  ------            --------------  ----- \n",
      " 0   price             545 non-null    int64 \n",
      " 1   area              545 non-null    int64 \n",
      " 2   bedrooms          545 non-null    int64 \n",
      " 3   bathrooms         545 non-null    int64 \n",
      " 4   stories           545 non-null    int64 \n",
      " 5   mainroad          545 non-null    object\n",
      " 6   guestroom         545 non-null    object\n",
      " 7   basement          545 non-null    object\n",
      " 8   hotwaterheating   545 non-null    object\n",
      " 9   airconditioning   545 non-null    object\n",
      " 10  parking           545 non-null    int64 \n",
      " 11  prefarea          545 non-null    object\n",
      " 12  furnishingstatus  545 non-null    object\n",
      "dtypes: int64(6), object(7)\n",
      "memory usage: 55.5+ KB\n"
     ]
    }
   ],
   "source": [
    "data.info() #summary of the dataset"
   ]
  },
  {
   "cell_type": "code",
   "execution_count": 248,
   "id": "abc5665f",
   "metadata": {},
   "outputs": [
    {
     "data": {
      "text/plain": [
       "price               0\n",
       "area                0\n",
       "bedrooms            0\n",
       "bathrooms           0\n",
       "stories             0\n",
       "mainroad            0\n",
       "guestroom           0\n",
       "basement            0\n",
       "hotwaterheating     0\n",
       "airconditioning     0\n",
       "parking             0\n",
       "prefarea            0\n",
       "furnishingstatus    0\n",
       "dtype: int64"
      ]
     },
     "execution_count": 248,
     "metadata": {},
     "output_type": "execute_result"
    }
   ],
   "source": [
    "data.isna().sum() # looking out for missing values in my dataset"
   ]
  },
  {
   "cell_type": "code",
   "execution_count": 249,
   "id": "28c210bb",
   "metadata": {},
   "outputs": [
    {
     "data": {
      "text/plain": [
       "array(['furnished', 'semi-furnished', 'unfurnished'], dtype=object)"
      ]
     },
     "execution_count": 249,
     "metadata": {},
     "output_type": "execute_result"
    }
   ],
   "source": [
    "data['furnishingstatus'].unique() # unique values in each column \n"
   ]
  },
  {
   "cell_type": "code",
   "execution_count": 250,
   "id": "3ad4466a",
   "metadata": {},
   "outputs": [
    {
     "data": {
      "image/png": "[encoded data removed]",
      "text/plain": [
       "<Figure size 640x480 with 1 Axes>"
      ]
     },
     "metadata": {},
     "output_type": "display_data"
    }
   ],
   "source": [
    "\n",
    "plt.boxplot(data['price'])\n",
    "plt.title('Boxplot of Housing Prices')\n",
    "plt.ylabel('Price')\n",
    "plt.show()"
   ]
  },
  {
   "cell_type": "code",
   "execution_count": 251,
   "id": "cba63e24",
   "metadata": {},
   "outputs": [
    {
     "data": {
      "text/html": [
       "<div>\n",
       "<style scoped>\n",
       "    .dataframe tbody tr th:only-of-type {\n",
       "        vertical-align: middle;\n",
       "    }\n",
       "\n",
       "    .dataframe tbody tr th {\n",
       "        vertical-align: top;\n",
       "    }\n",
       "\n",
       "    .dataframe thead th {\n",
       "        text-align: right;\n",
       "    }\n",
       "</style>\n",
       "<table border=\"1\" class=\"dataframe\">\n",
       "  <thead>\n",
       "    <tr style=\"text-align: right;\">\n",
       "      <th>mainroad</th>\n",
       "      <th>no</th>\n",
       "      <th>yes</th>\n",
       "      <th>All</th>\n",
       "    </tr>\n",
       "    <tr>\n",
       "      <th>price</th>\n",
       "      <th></th>\n",
       "      <th></th>\n",
       "      <th></th>\n",
       "    </tr>\n",
       "  </thead>\n",
       "  <tbody>\n",
       "    <tr>\n",
       "      <th>1750000</th>\n",
       "      <td>1</td>\n",
       "      <td>2</td>\n",
       "      <td>3</td>\n",
       "    </tr>\n",
       "    <tr>\n",
       "      <th>1767150</th>\n",
       "      <td>1</td>\n",
       "      <td>0</td>\n",
       "      <td>1</td>\n",
       "    </tr>\n",
       "    <tr>\n",
       "      <th>1820000</th>\n",
       "      <td>0</td>\n",
       "      <td>1</td>\n",
       "      <td>1</td>\n",
       "    </tr>\n",
       "    <tr>\n",
       "      <th>1855000</th>\n",
       "      <td>1</td>\n",
       "      <td>0</td>\n",
       "      <td>1</td>\n",
       "    </tr>\n",
       "    <tr>\n",
       "      <th>1890000</th>\n",
       "      <td>0</td>\n",
       "      <td>2</td>\n",
       "      <td>2</td>\n",
       "    </tr>\n",
       "    <tr>\n",
       "      <th>...</th>\n",
       "      <td>...</td>\n",
       "      <td>...</td>\n",
       "      <td>...</td>\n",
       "    </tr>\n",
       "    <tr>\n",
       "      <th>11410000</th>\n",
       "      <td>0</td>\n",
       "      <td>1</td>\n",
       "      <td>1</td>\n",
       "    </tr>\n",
       "    <tr>\n",
       "      <th>12215000</th>\n",
       "      <td>0</td>\n",
       "      <td>1</td>\n",
       "      <td>1</td>\n",
       "    </tr>\n",
       "    <tr>\n",
       "      <th>12250000</th>\n",
       "      <td>0</td>\n",
       "      <td>2</td>\n",
       "      <td>2</td>\n",
       "    </tr>\n",
       "    <tr>\n",
       "      <th>13300000</th>\n",
       "      <td>0</td>\n",
       "      <td>1</td>\n",
       "      <td>1</td>\n",
       "    </tr>\n",
       "    <tr>\n",
       "      <th>All</th>\n",
       "      <td>77</td>\n",
       "      <td>468</td>\n",
       "      <td>545</td>\n",
       "    </tr>\n",
       "  </tbody>\n",
       "</table>\n",
       "<p>220 rows × 3 columns</p>\n",
       "</div>"
      ],
      "text/plain": [
       "mainroad  no  yes  All\n",
       "price                 \n",
       "1750000    1    2    3\n",
       "1767150    1    0    1\n",
       "1820000    0    1    1\n",
       "1855000    1    0    1\n",
       "1890000    0    2    2\n",
       "...       ..  ...  ...\n",
       "11410000   0    1    1\n",
       "12215000   0    1    1\n",
       "12250000   0    2    2\n",
       "13300000   0    1    1\n",
       "All       77  468  545\n",
       "\n",
       "[220 rows x 3 columns]"
      ]
     },
     "execution_count": 251,
     "metadata": {},
     "output_type": "execute_result"
    }
   ],
   "source": [
    "pd.crosstab(data['price'], data['mainroad'], margins=True)"
   ]
  },
  {
   "cell_type": "code",
   "execution_count": 252,
   "id": "acfe7f62",
   "metadata": {},
   "outputs": [
    {
     "data": {
      "image/png": "[encoded data removed]",
      "text/plain": [
       "<Figure size 640x480 with 1 Axes>"
      ]
     },
     "metadata": {},
     "output_type": "display_data"
    }
   ],
   "source": [
    "# Distribution of housing price: spread and frequency of different price ranges\n",
    "# it was observed that the data is skewed to the right\n",
    "plt.hist(data['price'], bins=20)\n",
    "plt.title('Distribution of Housing Prices')\n",
    "plt.xlabel('Price')\n",
    "plt.ylabel('Frequency')\n",
    "plt.show()"
   ]
  },
  {
   "cell_type": "code",
   "execution_count": 253,
   "id": "ad3ccc48",
   "metadata": {},
   "outputs": [
    {
     "data": {
      "text/plain": [
       "1.2122388370279802"
      ]
     },
     "execution_count": 253,
     "metadata": {},
     "output_type": "execute_result"
    }
   ],
   "source": [
    "# a [skew] function was employed to know the degree of skewness of the price column within the data\n",
    "\n",
    "data['price'].skew()"
   ]
  },
  {
   "cell_type": "code",
   "execution_count": 254,
   "id": "2a3ae375",
   "metadata": {},
   "outputs": [
    {
     "data": {
      "text/plain": [
       "0      16.403275\n",
       "1      16.321037\n",
       "2      16.321037\n",
       "3      16.318175\n",
       "4      16.250001\n",
       "         ...    \n",
       "540    14.414348\n",
       "541    14.384879\n",
       "542    14.375127\n",
       "543    14.375127\n",
       "544    14.375127\n",
       "Name: price, Length: 545, dtype: float64"
      ]
     },
     "execution_count": 254,
     "metadata": {},
     "output_type": "execute_result"
    }
   ],
   "source": [
    "# it was observed that the prices were more biased to the left\n",
    "# in order for us to make the data distribution more suitable for machine learning algorithms, the data had to be normalized using the log function\n",
    "\n",
    "log_price= np.log1p(data['price'])\n",
    "log_price"
   ]
  },
  {
   "cell_type": "code",
   "execution_count": 255,
   "id": "c32a17b5",
   "metadata": {},
   "outputs": [
    {
     "data": {
      "text/plain": [
       "Text(0, 0.5, 'Frequency')"
      ]
     },
     "execution_count": 255,
     "metadata": {},
     "output_type": "execute_result"
    },
    {
     "data": {
      "image/png": "[encoded data removed]",
      "text/plain": [
       "<Figure size 640x480 with 1 Axes>"
      ]
     },
     "metadata": {},
     "output_type": "display_data"
    }
   ],
   "source": [
    "# A Histplot was employed to assess the distribution of the data after normalization\n",
    "sns.histplot(log_price)\n",
    "plt.title('Histogram Distribution of Log_Price')\n",
    "plt.xlabel('Price')\n",
    "plt.ylabel('Frequency')"
   ]
  },
  {
   "cell_type": "code",
   "execution_count": 256,
   "id": "ccc0fb6e",
   "metadata": {},
   "outputs": [
    {
     "data": {
      "text/plain": [
       "Index(['price', 'area', 'bedrooms', 'bathrooms', 'stories', 'mainroad',\n",
       "       'guestroom', 'basement', 'hotwaterheating', 'airconditioning',\n",
       "       'parking', 'prefarea', 'furnishingstatus'],\n",
       "      dtype='object')"
      ]
     },
     "execution_count": 256,
     "metadata": {},
     "output_type": "execute_result"
    }
   ],
   "source": [
    "#  Preparing my dataset to be passed through a machine learning algorithm\n",
    "#  the label of the model is the price of a house\n",
    "#  all columns = fearures have the tendency to influence the pricing of houses \n",
    "\n",
    "data.columns\n"
   ]
  },
  {
   "cell_type": "code",
   "execution_count": 257,
   "id": "6039c68b",
   "metadata": {},
   "outputs": [
    {
     "name": "stdout",
     "output_type": "stream",
     "text": [
      "<class 'pandas.core.frame.DataFrame'>\n",
      "RangeIndex: 545 entries, 0 to 544\n",
      "Data columns (total 13 columns):\n",
      " #   Column            Non-Null Count  Dtype \n",
      "---  ------            --------------  ----- \n",
      " 0   price             545 non-null    int64 \n",
      " 1   area              545 non-null    int64 \n",
      " 2   bedrooms          545 non-null    int64 \n",
      " 3   bathrooms         545 non-null    int64 \n",
      " 4   stories           545 non-null    int64 \n",
      " 5   mainroad          545 non-null    object\n",
      " 6   guestroom         545 non-null    object\n",
      " 7   basement          545 non-null    object\n",
      " 8   hotwaterheating   545 non-null    object\n",
      " 9   airconditioning   545 non-null    object\n",
      " 10  parking           545 non-null    int64 \n",
      " 11  prefarea          545 non-null    object\n",
      " 12  furnishingstatus  545 non-null    object\n",
      "dtypes: int64(6), object(7)\n",
      "memory usage: 55.5+ KB\n"
     ]
    }
   ],
   "source": [
    "# the summary of my dataset indicates that some features have a non-numerical values which cant be passed through a machine learning algorithm hence had to be changed into a numeric datatype \n",
    "data.info()"
   ]
  },
  {
   "cell_type": "code",
   "execution_count": 258,
   "id": "e4742bdc",
   "metadata": {},
   "outputs": [],
   "source": [
    "# A glance through the data indicates that most of the non-numeric columns had a yes or no response(value)\n",
    "# Hence in order to generate a numeric column, all yes were replaced with 1 and no with 0 \n",
    "\n",
    "data['mainroad'] = data['mainroad'].replace({'yes': 1,'no':0})\n",
    "data['guestroom'] = data['guestroom'].replace({'yes': 1,'no':0})\n",
    "data['basement'] = data['basement'].replace({'yes': 1,'no':0})\n",
    "data['hotwaterheating'] = data['hotwaterheating'].replace({'yes': 1,'no':0})\n",
    "data['airconditioning'] = data['mainroad'].replace({'yes': 1,'no':0})\n",
    "data['prefarea'] = data['mainroad'].replace({'yes': 1,'no':0})"
   ]
  },
  {
   "cell_type": "code",
   "execution_count": 259,
   "id": "7be2ec51",
   "metadata": {},
   "outputs": [
    {
     "data": {
      "text/html": [
       "<div>\n",
       "<style scoped>\n",
       "    .dataframe tbody tr th:only-of-type {\n",
       "        vertical-align: middle;\n",
       "    }\n",
       "\n",
       "    .dataframe tbody tr th {\n",
       "        vertical-align: top;\n",
       "    }\n",
       "\n",
       "    .dataframe thead th {\n",
       "        text-align: right;\n",
       "    }\n",
       "</style>\n",
       "<table border=\"1\" class=\"dataframe\">\n",
       "  <thead>\n",
       "    <tr style=\"text-align: right;\">\n",
       "      <th></th>\n",
       "      <th>price</th>\n",
       "      <th>area</th>\n",
       "      <th>bedrooms</th>\n",
       "      <th>bathrooms</th>\n",
       "      <th>stories</th>\n",
       "      <th>mainroad</th>\n",
       "      <th>guestroom</th>\n",
       "      <th>basement</th>\n",
       "      <th>hotwaterheating</th>\n",
       "      <th>airconditioning</th>\n",
       "      <th>parking</th>\n",
       "      <th>prefarea</th>\n",
       "      <th>furnishingstatus</th>\n",
       "    </tr>\n",
       "  </thead>\n",
       "  <tbody>\n",
       "    <tr>\n",
       "      <th>0</th>\n",
       "      <td>13300000</td>\n",
       "      <td>7420</td>\n",
       "      <td>4</td>\n",
       "      <td>2</td>\n",
       "      <td>3</td>\n",
       "      <td>1</td>\n",
       "      <td>0</td>\n",
       "      <td>0</td>\n",
       "      <td>0</td>\n",
       "      <td>1</td>\n",
       "      <td>2</td>\n",
       "      <td>1</td>\n",
       "      <td>furnished</td>\n",
       "    </tr>\n",
       "    <tr>\n",
       "      <th>1</th>\n",
       "      <td>12250000</td>\n",
       "      <td>8960</td>\n",
       "      <td>4</td>\n",
       "      <td>4</td>\n",
       "      <td>4</td>\n",
       "      <td>1</td>\n",
       "      <td>0</td>\n",
       "      <td>0</td>\n",
       "      <td>0</td>\n",
       "      <td>1</td>\n",
       "      <td>3</td>\n",
       "      <td>1</td>\n",
       "      <td>furnished</td>\n",
       "    </tr>\n",
       "    <tr>\n",
       "      <th>2</th>\n",
       "      <td>12250000</td>\n",
       "      <td>9960</td>\n",
       "      <td>3</td>\n",
       "      <td>2</td>\n",
       "      <td>2</td>\n",
       "      <td>1</td>\n",
       "      <td>0</td>\n",
       "      <td>1</td>\n",
       "      <td>0</td>\n",
       "      <td>1</td>\n",
       "      <td>2</td>\n",
       "      <td>1</td>\n",
       "      <td>semi-furnished</td>\n",
       "    </tr>\n",
       "    <tr>\n",
       "      <th>3</th>\n",
       "      <td>12215000</td>\n",
       "      <td>7500</td>\n",
       "      <td>4</td>\n",
       "      <td>2</td>\n",
       "      <td>2</td>\n",
       "      <td>1</td>\n",
       "      <td>0</td>\n",
       "      <td>1</td>\n",
       "      <td>0</td>\n",
       "      <td>1</td>\n",
       "      <td>3</td>\n",
       "      <td>1</td>\n",
       "      <td>furnished</td>\n",
       "    </tr>\n",
       "    <tr>\n",
       "      <th>4</th>\n",
       "      <td>11410000</td>\n",
       "      <td>7420</td>\n",
       "      <td>4</td>\n",
       "      <td>1</td>\n",
       "      <td>2</td>\n",
       "      <td>1</td>\n",
       "      <td>1</td>\n",
       "      <td>1</td>\n",
       "      <td>0</td>\n",
       "      <td>1</td>\n",
       "      <td>2</td>\n",
       "      <td>1</td>\n",
       "      <td>furnished</td>\n",
       "    </tr>\n",
       "    <tr>\n",
       "      <th>...</th>\n",
       "      <td>...</td>\n",
       "      <td>...</td>\n",
       "      <td>...</td>\n",
       "      <td>...</td>\n",
       "      <td>...</td>\n",
       "      <td>...</td>\n",
       "      <td>...</td>\n",
       "      <td>...</td>\n",
       "      <td>...</td>\n",
       "      <td>...</td>\n",
       "      <td>...</td>\n",
       "      <td>...</td>\n",
       "      <td>...</td>\n",
       "    </tr>\n",
       "    <tr>\n",
       "      <th>540</th>\n",
       "      <td>1820000</td>\n",
       "      <td>3000</td>\n",
       "      <td>2</td>\n",
       "      <td>1</td>\n",
       "      <td>1</td>\n",
       "      <td>1</td>\n",
       "      <td>0</td>\n",
       "      <td>1</td>\n",
       "      <td>0</td>\n",
       "      <td>1</td>\n",
       "      <td>2</td>\n",
       "      <td>1</td>\n",
       "      <td>unfurnished</td>\n",
       "    </tr>\n",
       "    <tr>\n",
       "      <th>541</th>\n",
       "      <td>1767150</td>\n",
       "      <td>2400</td>\n",
       "      <td>3</td>\n",
       "      <td>1</td>\n",
       "      <td>1</td>\n",
       "      <td>0</td>\n",
       "      <td>0</td>\n",
       "      <td>0</td>\n",
       "      <td>0</td>\n",
       "      <td>0</td>\n",
       "      <td>0</td>\n",
       "      <td>0</td>\n",
       "      <td>semi-furnished</td>\n",
       "    </tr>\n",
       "    <tr>\n",
       "      <th>542</th>\n",
       "      <td>1750000</td>\n",
       "      <td>3620</td>\n",
       "      <td>2</td>\n",
       "      <td>1</td>\n",
       "      <td>1</td>\n",
       "      <td>1</td>\n",
       "      <td>0</td>\n",
       "      <td>0</td>\n",
       "      <td>0</td>\n",
       "      <td>1</td>\n",
       "      <td>0</td>\n",
       "      <td>1</td>\n",
       "      <td>unfurnished</td>\n",
       "    </tr>\n",
       "    <tr>\n",
       "      <th>543</th>\n",
       "      <td>1750000</td>\n",
       "      <td>2910</td>\n",
       "      <td>3</td>\n",
       "      <td>1</td>\n",
       "      <td>1</td>\n",
       "      <td>0</td>\n",
       "      <td>0</td>\n",
       "      <td>0</td>\n",
       "      <td>0</td>\n",
       "      <td>0</td>\n",
       "      <td>0</td>\n",
       "      <td>0</td>\n",
       "      <td>furnished</td>\n",
       "    </tr>\n",
       "    <tr>\n",
       "      <th>544</th>\n",
       "      <td>1750000</td>\n",
       "      <td>3850</td>\n",
       "      <td>3</td>\n",
       "      <td>1</td>\n",
       "      <td>2</td>\n",
       "      <td>1</td>\n",
       "      <td>0</td>\n",
       "      <td>0</td>\n",
       "      <td>0</td>\n",
       "      <td>1</td>\n",
       "      <td>0</td>\n",
       "      <td>1</td>\n",
       "      <td>unfurnished</td>\n",
       "    </tr>\n",
       "  </tbody>\n",
       "</table>\n",
       "<p>545 rows × 13 columns</p>\n",
       "</div>"
      ],
      "text/plain": [
       "        price  area  bedrooms  bathrooms  stories  mainroad  guestroom  \\\n",
       "0    13300000  7420         4          2        3         1          0   \n",
       "1    12250000  8960         4          4        4         1          0   \n",
       "2    12250000  9960         3          2        2         1          0   \n",
       "3    12215000  7500         4          2        2         1          0   \n",
       "4    11410000  7420         4          1        2         1          1   \n",
       "..        ...   ...       ...        ...      ...       ...        ...   \n",
       "540   1820000  3000         2          1        1         1          0   \n",
       "541   1767150  2400         3          1        1         0          0   \n",
       "542   1750000  3620         2          1        1         1          0   \n",
       "543   1750000  2910         3          1        1         0          0   \n",
       "544   1750000  3850         3          1        2         1          0   \n",
       "\n",
       "     basement  hotwaterheating  airconditioning  parking  prefarea  \\\n",
       "0           0                0                1        2         1   \n",
       "1           0                0                1        3         1   \n",
       "2           1                0                1        2         1   \n",
       "3           1                0                1        3         1   \n",
       "4           1                0                1        2         1   \n",
       "..        ...              ...              ...      ...       ...   \n",
       "540         1                0                1        2         1   \n",
       "541         0                0                0        0         0   \n",
       "542         0                0                1        0         1   \n",
       "543         0                0                0        0         0   \n",
       "544         0                0                1        0         1   \n",
       "\n",
       "    furnishingstatus  \n",
       "0          furnished  \n",
       "1          furnished  \n",
       "2     semi-furnished  \n",
       "3          furnished  \n",
       "4          furnished  \n",
       "..               ...  \n",
       "540      unfurnished  \n",
       "541   semi-furnished  \n",
       "542      unfurnished  \n",
       "543        furnished  \n",
       "544      unfurnished  \n",
       "\n",
       "[545 rows x 13 columns]"
      ]
     },
     "execution_count": 259,
     "metadata": {},
     "output_type": "execute_result"
    }
   ],
   "source": [
    "# in order to verify if the change has been effected, the dataset was called out \n",
    "\n",
    "data"
   ]
  },
  {
   "cell_type": "code",
   "execution_count": 260,
   "id": "1b343dcd",
   "metadata": {},
   "outputs": [],
   "source": [
    "# the furnishingstatus column was the only exception with three options: furnished, semifurnished and unfurnished\n",
    "# I intend to replace furnished = 1, semifurnished = 2 and unfurnished = 3 to generate a numeric column\n",
    "\n",
    "data['furnishingstatus'] = data['furnishingstatus'].replace({'furnished': 3, 'semi-furnished': 2, 'unfurnished': 1})"
   ]
  },
  {
   "cell_type": "code",
   "execution_count": 261,
   "id": "c10f7f83",
   "metadata": {},
   "outputs": [
    {
     "data": {
      "text/html": [
       "<div>\n",
       "<style scoped>\n",
       "    .dataframe tbody tr th:only-of-type {\n",
       "        vertical-align: middle;\n",
       "    }\n",
       "\n",
       "    .dataframe tbody tr th {\n",
       "        vertical-align: top;\n",
       "    }\n",
       "\n",
       "    .dataframe thead th {\n",
       "        text-align: right;\n",
       "    }\n",
       "</style>\n",
       "<table border=\"1\" class=\"dataframe\">\n",
       "  <thead>\n",
       "    <tr style=\"text-align: right;\">\n",
       "      <th></th>\n",
       "      <th>price</th>\n",
       "      <th>area</th>\n",
       "      <th>bedrooms</th>\n",
       "      <th>bathrooms</th>\n",
       "      <th>stories</th>\n",
       "      <th>mainroad</th>\n",
       "      <th>guestroom</th>\n",
       "      <th>basement</th>\n",
       "      <th>hotwaterheating</th>\n",
       "      <th>airconditioning</th>\n",
       "      <th>parking</th>\n",
       "      <th>prefarea</th>\n",
       "      <th>furnishingstatus</th>\n",
       "    </tr>\n",
       "  </thead>\n",
       "  <tbody>\n",
       "    <tr>\n",
       "      <th>0</th>\n",
       "      <td>13300000</td>\n",
       "      <td>7420</td>\n",
       "      <td>4</td>\n",
       "      <td>2</td>\n",
       "      <td>3</td>\n",
       "      <td>1</td>\n",
       "      <td>0</td>\n",
       "      <td>0</td>\n",
       "      <td>0</td>\n",
       "      <td>1</td>\n",
       "      <td>2</td>\n",
       "      <td>1</td>\n",
       "      <td>3</td>\n",
       "    </tr>\n",
       "    <tr>\n",
       "      <th>1</th>\n",
       "      <td>12250000</td>\n",
       "      <td>8960</td>\n",
       "      <td>4</td>\n",
       "      <td>4</td>\n",
       "      <td>4</td>\n",
       "      <td>1</td>\n",
       "      <td>0</td>\n",
       "      <td>0</td>\n",
       "      <td>0</td>\n",
       "      <td>1</td>\n",
       "      <td>3</td>\n",
       "      <td>1</td>\n",
       "      <td>3</td>\n",
       "    </tr>\n",
       "    <tr>\n",
       "      <th>2</th>\n",
       "      <td>12250000</td>\n",
       "      <td>9960</td>\n",
       "      <td>3</td>\n",
       "      <td>2</td>\n",
       "      <td>2</td>\n",
       "      <td>1</td>\n",
       "      <td>0</td>\n",
       "      <td>1</td>\n",
       "      <td>0</td>\n",
       "      <td>1</td>\n",
       "      <td>2</td>\n",
       "      <td>1</td>\n",
       "      <td>2</td>\n",
       "    </tr>\n",
       "    <tr>\n",
       "      <th>3</th>\n",
       "      <td>12215000</td>\n",
       "      <td>7500</td>\n",
       "      <td>4</td>\n",
       "      <td>2</td>\n",
       "      <td>2</td>\n",
       "      <td>1</td>\n",
       "      <td>0</td>\n",
       "      <td>1</td>\n",
       "      <td>0</td>\n",
       "      <td>1</td>\n",
       "      <td>3</td>\n",
       "      <td>1</td>\n",
       "      <td>3</td>\n",
       "    </tr>\n",
       "    <tr>\n",
       "      <th>4</th>\n",
       "      <td>11410000</td>\n",
       "      <td>7420</td>\n",
       "      <td>4</td>\n",
       "      <td>1</td>\n",
       "      <td>2</td>\n",
       "      <td>1</td>\n",
       "      <td>1</td>\n",
       "      <td>1</td>\n",
       "      <td>0</td>\n",
       "      <td>1</td>\n",
       "      <td>2</td>\n",
       "      <td>1</td>\n",
       "      <td>3</td>\n",
       "    </tr>\n",
       "    <tr>\n",
       "      <th>...</th>\n",
       "      <td>...</td>\n",
       "      <td>...</td>\n",
       "      <td>...</td>\n",
       "      <td>...</td>\n",
       "      <td>...</td>\n",
       "      <td>...</td>\n",
       "      <td>...</td>\n",
       "      <td>...</td>\n",
       "      <td>...</td>\n",
       "      <td>...</td>\n",
       "      <td>...</td>\n",
       "      <td>...</td>\n",
       "      <td>...</td>\n",
       "    </tr>\n",
       "    <tr>\n",
       "      <th>540</th>\n",
       "      <td>1820000</td>\n",
       "      <td>3000</td>\n",
       "      <td>2</td>\n",
       "      <td>1</td>\n",
       "      <td>1</td>\n",
       "      <td>1</td>\n",
       "      <td>0</td>\n",
       "      <td>1</td>\n",
       "      <td>0</td>\n",
       "      <td>1</td>\n",
       "      <td>2</td>\n",
       "      <td>1</td>\n",
       "      <td>1</td>\n",
       "    </tr>\n",
       "    <tr>\n",
       "      <th>541</th>\n",
       "      <td>1767150</td>\n",
       "      <td>2400</td>\n",
       "      <td>3</td>\n",
       "      <td>1</td>\n",
       "      <td>1</td>\n",
       "      <td>0</td>\n",
       "      <td>0</td>\n",
       "      <td>0</td>\n",
       "      <td>0</td>\n",
       "      <td>0</td>\n",
       "      <td>0</td>\n",
       "      <td>0</td>\n",
       "      <td>2</td>\n",
       "    </tr>\n",
       "    <tr>\n",
       "      <th>542</th>\n",
       "      <td>1750000</td>\n",
       "      <td>3620</td>\n",
       "      <td>2</td>\n",
       "      <td>1</td>\n",
       "      <td>1</td>\n",
       "      <td>1</td>\n",
       "      <td>0</td>\n",
       "      <td>0</td>\n",
       "      <td>0</td>\n",
       "      <td>1</td>\n",
       "      <td>0</td>\n",
       "      <td>1</td>\n",
       "      <td>1</td>\n",
       "    </tr>\n",
       "    <tr>\n",
       "      <th>543</th>\n",
       "      <td>1750000</td>\n",
       "      <td>2910</td>\n",
       "      <td>3</td>\n",
       "      <td>1</td>\n",
       "      <td>1</td>\n",
       "      <td>0</td>\n",
       "      <td>0</td>\n",
       "      <td>0</td>\n",
       "      <td>0</td>\n",
       "      <td>0</td>\n",
       "      <td>0</td>\n",
       "      <td>0</td>\n",
       "      <td>3</td>\n",
       "    </tr>\n",
       "    <tr>\n",
       "      <th>544</th>\n",
       "      <td>1750000</td>\n",
       "      <td>3850</td>\n",
       "      <td>3</td>\n",
       "      <td>1</td>\n",
       "      <td>2</td>\n",
       "      <td>1</td>\n",
       "      <td>0</td>\n",
       "      <td>0</td>\n",
       "      <td>0</td>\n",
       "      <td>1</td>\n",
       "      <td>0</td>\n",
       "      <td>1</td>\n",
       "      <td>1</td>\n",
       "    </tr>\n",
       "  </tbody>\n",
       "</table>\n",
       "<p>545 rows × 13 columns</p>\n",
       "</div>"
      ],
      "text/plain": [
       "        price  area  bedrooms  bathrooms  stories  mainroad  guestroom  \\\n",
       "0    13300000  7420         4          2        3         1          0   \n",
       "1    12250000  8960         4          4        4         1          0   \n",
       "2    12250000  9960         3          2        2         1          0   \n",
       "3    12215000  7500         4          2        2         1          0   \n",
       "4    11410000  7420         4          1        2         1          1   \n",
       "..        ...   ...       ...        ...      ...       ...        ...   \n",
       "540   1820000  3000         2          1        1         1          0   \n",
       "541   1767150  2400         3          1        1         0          0   \n",
       "542   1750000  3620         2          1        1         1          0   \n",
       "543   1750000  2910         3          1        1         0          0   \n",
       "544   1750000  3850         3          1        2         1          0   \n",
       "\n",
       "     basement  hotwaterheating  airconditioning  parking  prefarea  \\\n",
       "0           0                0                1        2         1   \n",
       "1           0                0                1        3         1   \n",
       "2           1                0                1        2         1   \n",
       "3           1                0                1        3         1   \n",
       "4           1                0                1        2         1   \n",
       "..        ...              ...              ...      ...       ...   \n",
       "540         1                0                1        2         1   \n",
       "541         0                0                0        0         0   \n",
       "542         0                0                1        0         1   \n",
       "543         0                0                0        0         0   \n",
       "544         0                0                1        0         1   \n",
       "\n",
       "     furnishingstatus  \n",
       "0                   3  \n",
       "1                   3  \n",
       "2                   2  \n",
       "3                   3  \n",
       "4                   3  \n",
       "..                ...  \n",
       "540                 1  \n",
       "541                 2  \n",
       "542                 1  \n",
       "543                 3  \n",
       "544                 1  \n",
       "\n",
       "[545 rows x 13 columns]"
      ]
     },
     "execution_count": 261,
     "metadata": {},
     "output_type": "execute_result"
    }
   ],
   "source": [
    "# in order to verify if the change has been effected, the dataset was called out\n",
    "data"
   ]
  },
  {
   "cell_type": "code",
   "execution_count": 262,
   "id": "49aef714",
   "metadata": {},
   "outputs": [
    {
     "name": "stdout",
     "output_type": "stream",
     "text": [
      "<class 'pandas.core.frame.DataFrame'>\n",
      "RangeIndex: 545 entries, 0 to 544\n",
      "Data columns (total 13 columns):\n",
      " #   Column            Non-Null Count  Dtype\n",
      "---  ------            --------------  -----\n",
      " 0   price             545 non-null    int64\n",
      " 1   area              545 non-null    int64\n",
      " 2   bedrooms          545 non-null    int64\n",
      " 3   bathrooms         545 non-null    int64\n",
      " 4   stories           545 non-null    int64\n",
      " 5   mainroad          545 non-null    int64\n",
      " 6   guestroom         545 non-null    int64\n",
      " 7   basement          545 non-null    int64\n",
      " 8   hotwaterheating   545 non-null    int64\n",
      " 9   airconditioning   545 non-null    int64\n",
      " 10  parking           545 non-null    int64\n",
      " 11  prefarea          545 non-null    int64\n",
      " 12  furnishingstatus  545 non-null    int64\n",
      "dtypes: int64(13)\n",
      "memory usage: 55.5 KB\n"
     ]
    }
   ],
   "source": [
    "# verifying datatypes\n",
    "\n",
    "data.info()"
   ]
  },
  {
   "cell_type": "code",
   "execution_count": 263,
   "id": "9b30e724",
   "metadata": {},
   "outputs": [
    {
     "data": {
      "text/plain": [
       "price        1.000000\n",
       "area         0.535997\n",
       "bedrooms     0.366494\n",
       "bathrooms    0.517545\n",
       "stories      0.420712\n",
       "parking      0.384394\n",
       "Name: price, dtype: float64"
      ]
     },
     "execution_count": 263,
     "metadata": {},
     "output_type": "execute_result"
    }
   ],
   "source": [
    "corr_matrix= numerical_cols.corr()\n",
    "corr_matrix['price']"
   ]
  },
  {
   "cell_type": "code",
   "execution_count": 282,
   "id": "9c99321e",
   "metadata": {},
   "outputs": [
    {
     "data": {
      "text/plain": [
       "<Axes: >"
      ]
     },
     "execution_count": 282,
     "metadata": {},
     "output_type": "execute_result"
    },
    {
     "data": {
      "image/png": "[encoded data removed]",
      "text/plain": [
       "<Figure size 1500x800 with 2 Axes>"
      ]
     },
     "metadata": {},
     "output_type": "display_data"
    }
   ],
   "source": [
    "plt.figure(figsize = (15,8))\n",
    "sns.heatmap(data.corr(), annot=True, cmap='coolwarm')"
   ]
  },
  {
   "cell_type": "code",
   "execution_count": 264,
   "id": "5037417b",
   "metadata": {},
   "outputs": [],
   "source": [
    "# Splitting dataset\n",
    "\n",
    "data_train_full, data_test = train_test_split(data, test_size = 0.2, random_state = 11)\n",
    "data_train, data_valid = train_test_split(data_train_full, test_size = 0.20, random_state =11)\n"
   ]
  },
  {
   "cell_type": "code",
   "execution_count": 265,
   "id": "57ffc2d9",
   "metadata": {},
   "outputs": [
    {
     "name": "stdout",
     "output_type": "stream",
     "text": [
      "Train_Dataset 348\n",
      "Valid_Test 88\n",
      "Test_Set 109\n"
     ]
    }
   ],
   "source": [
    "print(f'Train_Dataset {len(data_train)}')\n",
    "print(f'Valid_Test {len(data_valid)}')\n",
    "print(f'Test_Set {len(data_test)}')"
   ]
  },
  {
   "cell_type": "code",
   "execution_count": 266,
   "id": "6a0dbf98",
   "metadata": {},
   "outputs": [
    {
     "data": {
      "text/html": [
       "<div>\n",
       "<style scoped>\n",
       "    .dataframe tbody tr th:only-of-type {\n",
       "        vertical-align: middle;\n",
       "    }\n",
       "\n",
       "    .dataframe tbody tr th {\n",
       "        vertical-align: top;\n",
       "    }\n",
       "\n",
       "    .dataframe thead th {\n",
       "        text-align: right;\n",
       "    }\n",
       "</style>\n",
       "<table border=\"1\" class=\"dataframe\">\n",
       "  <thead>\n",
       "    <tr style=\"text-align: right;\">\n",
       "      <th></th>\n",
       "      <th>price</th>\n",
       "      <th>area</th>\n",
       "      <th>bedrooms</th>\n",
       "      <th>bathrooms</th>\n",
       "      <th>stories</th>\n",
       "      <th>mainroad</th>\n",
       "      <th>guestroom</th>\n",
       "      <th>basement</th>\n",
       "      <th>hotwaterheating</th>\n",
       "      <th>airconditioning</th>\n",
       "      <th>parking</th>\n",
       "      <th>prefarea</th>\n",
       "      <th>furnishingstatus</th>\n",
       "    </tr>\n",
       "  </thead>\n",
       "  <tbody>\n",
       "    <tr>\n",
       "      <th>42</th>\n",
       "      <td>7700000</td>\n",
       "      <td>6480</td>\n",
       "      <td>3</td>\n",
       "      <td>2</td>\n",
       "      <td>4</td>\n",
       "      <td>1</td>\n",
       "      <td>0</td>\n",
       "      <td>0</td>\n",
       "      <td>0</td>\n",
       "      <td>1</td>\n",
       "      <td>2</td>\n",
       "      <td>1</td>\n",
       "      <td>1</td>\n",
       "    </tr>\n",
       "    <tr>\n",
       "      <th>209</th>\n",
       "      <td>4900000</td>\n",
       "      <td>6720</td>\n",
       "      <td>3</td>\n",
       "      <td>1</td>\n",
       "      <td>1</td>\n",
       "      <td>1</td>\n",
       "      <td>0</td>\n",
       "      <td>0</td>\n",
       "      <td>0</td>\n",
       "      <td>1</td>\n",
       "      <td>0</td>\n",
       "      <td>1</td>\n",
       "      <td>1</td>\n",
       "    </tr>\n",
       "    <tr>\n",
       "      <th>541</th>\n",
       "      <td>1767150</td>\n",
       "      <td>2400</td>\n",
       "      <td>3</td>\n",
       "      <td>1</td>\n",
       "      <td>1</td>\n",
       "      <td>0</td>\n",
       "      <td>0</td>\n",
       "      <td>0</td>\n",
       "      <td>0</td>\n",
       "      <td>0</td>\n",
       "      <td>0</td>\n",
       "      <td>0</td>\n",
       "      <td>2</td>\n",
       "    </tr>\n",
       "    <tr>\n",
       "      <th>334</th>\n",
       "      <td>3920000</td>\n",
       "      <td>3290</td>\n",
       "      <td>2</td>\n",
       "      <td>1</td>\n",
       "      <td>1</td>\n",
       "      <td>1</td>\n",
       "      <td>0</td>\n",
       "      <td>0</td>\n",
       "      <td>1</td>\n",
       "      <td>1</td>\n",
       "      <td>1</td>\n",
       "      <td>1</td>\n",
       "      <td>3</td>\n",
       "    </tr>\n",
       "    <tr>\n",
       "      <th>433</th>\n",
       "      <td>3290000</td>\n",
       "      <td>3480</td>\n",
       "      <td>4</td>\n",
       "      <td>1</td>\n",
       "      <td>2</td>\n",
       "      <td>0</td>\n",
       "      <td>0</td>\n",
       "      <td>0</td>\n",
       "      <td>0</td>\n",
       "      <td>0</td>\n",
       "      <td>1</td>\n",
       "      <td>0</td>\n",
       "      <td>2</td>\n",
       "    </tr>\n",
       "  </tbody>\n",
       "</table>\n",
       "</div>"
      ],
      "text/plain": [
       "       price  area  bedrooms  bathrooms  stories  mainroad  guestroom  \\\n",
       "42   7700000  6480         3          2        4         1          0   \n",
       "209  4900000  6720         3          1        1         1          0   \n",
       "541  1767150  2400         3          1        1         0          0   \n",
       "334  3920000  3290         2          1        1         1          0   \n",
       "433  3290000  3480         4          1        2         0          0   \n",
       "\n",
       "     basement  hotwaterheating  airconditioning  parking  prefarea  \\\n",
       "42          0                0                1        2         1   \n",
       "209         0                0                1        0         1   \n",
       "541         0                0                0        0         0   \n",
       "334         0                1                1        1         1   \n",
       "433         0                0                0        1         0   \n",
       "\n",
       "     furnishingstatus  \n",
       "42                  1  \n",
       "209                 1  \n",
       "541                 2  \n",
       "334                 3  \n",
       "433                 2  "
      ]
     },
     "execution_count": 266,
     "metadata": {},
     "output_type": "execute_result"
    }
   ],
   "source": [
    "data_train.head()"
   ]
  },
  {
   "cell_type": "code",
   "execution_count": 267,
   "id": "c0160109",
   "metadata": {},
   "outputs": [
    {
     "data": {
      "text/plain": [
       "<Axes: >"
      ]
     },
     "execution_count": 267,
     "metadata": {},
     "output_type": "execute_result"
    },
    {
     "data": {
      "image/png": "[encoded data removed]",
      "text/plain": [
       "<Figure size 1500x800 with 2 Axes>"
      ]
     },
     "metadata": {},
     "output_type": "display_data"
    }
   ],
   "source": [
    "plt.figure(figsize = (15,8))\n",
    "sns.heatmap(data_train.corr(), annot=True, cmap='coolwarm')"
   ]
  },
  {
   "cell_type": "code",
   "execution_count": 268,
   "id": "3f2db9e1",
   "metadata": {},
   "outputs": [],
   "source": [
    "y_train = np.log1p(data_train['price']).values\n",
    "y_valid = np.log1p(data_valid['price']).values\n",
    "y_test = np.log1p(data_test['price']).values\n",
    "y_train_full = np.log1p(data_train_full['price']).values"
   ]
  },
  {
   "cell_type": "code",
   "execution_count": 269,
   "id": "3770d5fe",
   "metadata": {},
   "outputs": [
    {
     "data": {
      "text/plain": [
       "array([15.85673102, 15.40474597, 14.3848792 , 15.18160247, 15.00639843,\n",
       "       15.90984084, 15.18160247, 15.56296994, 14.85755285, 14.91745097,\n",
       "       15.67477306, 15.77137118, 15.85673102, 15.04807111, 15.06827381,\n",
       "       14.79383706, 14.91745097, 15.34590548, 15.82439564, 15.53200772,\n",
       "       15.81968975, 15.18160247, 15.24222707, 15.57388576, 15.25059532,\n",
       "       15.36094335, 14.45208792, 14.89392048, 14.95297522, 15.94374238,\n",
       "       15.40474597, 15.18160247, 15.31513383, 15.48698405, 14.91745097,\n",
       "       15.28338514, 15.24892726, 15.39035723, 15.06827381, 15.94374238,\n",
       "       15.14523483, 15.29779691, 15.25059532, 14.98489223, 15.43291684,\n",
       "       15.02745183, 15.11706396, 15.25059532, 15.4189306 , 15.90501888,\n",
       "       15.31513383, 14.66779639, 15.97249179, 15.10749451, 15.8337415 ,\n",
       "       15.40617352, 15.23378821, 15.35345268, 14.91745097, 14.79383706,\n",
       "       15.77137118, 15.06827381, 15.48038337, 14.98489223, 15.62502825,\n",
       "       15.00639843, 15.51934933, 14.96291333, 15.96436167, 15.1726338 ,\n",
       "       15.62100872, 15.18160247, 14.96068863, 15.03781461, 15.25059532,\n",
       "       16.02378508, 15.06827381, 15.51934933, 15.68885017, 15.08807643,\n",
       "       15.36094335, 14.95174003, 15.37722794, 14.98923063, 15.81968975,\n",
       "       15.47373883, 15.71012756, 15.00639843, 15.05822348, 15.19930204,\n",
       "       15.47373883, 15.49875658, 14.84513033, 14.99570314, 15.65606035,\n",
       "       15.34590548, 15.40331637, 15.53827733, 15.34590548, 14.94044048,\n",
       "       15.6221588 , 15.56904899, 15.04807111, 15.09783261, 15.56296994,\n",
       "       15.5750913 , 14.96291333, 15.29938547, 15.29938547, 15.33830088,\n",
       "       15.20803572, 15.28338514, 15.32291597, 14.91745097, 15.47373883,\n",
       "       15.6335875 , 15.12465413, 15.61059798, 15.41610972, 15.52443193,\n",
       "       15.33063801, 16.19967573, 15.19930204, 15.40474597, 16.03905255,\n",
       "       16.04659976, 15.58706749, 15.47373883, 15.34590548, 15.25059532,\n",
       "       15.16358397, 15.5750913 , 15.99649294, 14.81981253, 15.71537692,\n",
       "       15.53827733, 15.39035723, 15.22613186, 15.27528793, 15.74121815,\n",
       "       15.06827381, 15.31357011, 15.01908358, 15.37575844, 14.79383706,\n",
       "       14.48845554, 15.71012756, 15.01698053, 15.22527752, 14.86982294,\n",
       "       15.51295953, 15.44671016, 16.13298436, 15.1265427 , 14.71159899,\n",
       "       15.40474597, 15.19930204, 15.5846837 , 15.06827381, 15.26712462,\n",
       "       15.47373883, 15.81021101, 15.26712462, 15.34438918, 14.55744838,\n",
       "       15.10749451, 14.95622434, 15.18160247, 15.37428677, 15.59890195,\n",
       "       15.4724046 , 15.06827381, 15.51295953, 15.25059532, 15.00639843,\n",
       "       14.63749105, 15.06627181, 15.37575844, 14.86982294, 15.02745183,\n",
       "       15.72579368, 15.5858763 , 15.53827733, 15.81021101, 15.79097965,\n",
       "       15.33063801, 15.73096165, 14.91745097, 15.71012756, 15.40474597,\n",
       "       15.59890195, 15.00639843, 15.32291597, 15.76142085, 15.67803925,\n",
       "       15.67258965, 15.04807111, 15.25059532, 15.75137052, 15.47373883,\n",
       "       15.5750913 , 14.79120201, 15.53827733, 15.65606035, 15.01698053,\n",
       "       14.96291333, 15.45353612, 15.52569855, 14.63749105, 15.43291684,\n",
       "       14.37512692, 15.14523483, 15.02745183, 15.9765322 , 15.42594817,\n",
       "       15.53200772, 14.96291333, 15.20803572, 14.68261147, 15.10749451,\n",
       "       15.53827733, 15.59890195, 15.97249179, 14.96291333, 15.64488705,\n",
       "       15.16358397, 15.28338514, 15.6221588 , 16.00043772, 15.29779691,\n",
       "       15.37575844, 15.67803925, 15.8902537 , 15.26712462, 15.33063801,\n",
       "       15.16358397, 15.25059532, 14.76716882, 15.44671016, 15.64488705,\n",
       "       15.25059532, 15.31357011, 15.83838188, 15.31513383, 15.1265427 ,\n",
       "       15.14338126, 15.53827733, 16.10501051, 15.59890195, 15.87920387,\n",
       "       15.25889412, 15.1265427 , 15.04807111, 16.09789305, 15.58706749,\n",
       "       15.70485051, 14.94044048, 14.84513033, 15.28338514, 15.71012756,\n",
       "       15.24222707, 14.71159899, 14.79383706, 16.09789305, 15.06827381,\n",
       "       15.75137052, 15.59890195, 15.06827381, 15.47373883, 14.37512692,\n",
       "       15.25059532, 14.80690913, 15.94374238, 14.85755285, 16.32103658,\n",
       "       15.96027168, 15.91842458, 15.65606035, 14.71159899, 14.37512692,\n",
       "       14.94044048, 14.90575493, 14.79383706, 16.32103658, 15.19930204,\n",
       "       15.81021101, 15.31513383, 14.90103794, 15.25059532, 16.31817534,\n",
       "       15.40474597, 15.51295953, 14.95174003, 15.61059798, 15.22527752,\n",
       "       15.21669378, 15.82907949, 15.62788948, 15.06827381, 14.86370671,\n",
       "       14.94044048, 15.63925323, 14.63749105, 14.45208792, 14.85755285,\n",
       "       15.14338126, 15.08807643, 15.59890195, 14.99570314, 15.10556959,\n",
       "       15.15994098, 15.36094335, 15.33063801, 14.96291333, 14.73976986,\n",
       "       15.6221588 , 15.40474597, 15.02745183, 15.12465413, 15.68885017,\n",
       "       15.29141731, 15.06827381, 15.15445148, 15.23209185, 15.11706396,\n",
       "       15.61059798, 15.40331637, 15.02536632, 14.92901179, 15.23378821,\n",
       "       14.73976986, 14.86982294, 15.59772478, 15.33063801, 14.96291333,\n",
       "       15.11706396, 15.36094335, 15.9311636 , 15.44671016, 15.87474952,\n",
       "       15.50005613, 15.1265427 , 14.81981253, 15.20803572, 16.08567586,\n",
       "       15.38308447, 15.52569855, 15.94374238])"
      ]
     },
     "execution_count": 269,
     "metadata": {},
     "output_type": "execute_result"
    }
   ],
   "source": [
    "y_train"
   ]
  },
  {
   "cell_type": "code",
   "execution_count": 270,
   "id": "d80c789f",
   "metadata": {},
   "outputs": [],
   "source": [
    "# listing out my module features\n",
    "module_features= ['area', 'bedrooms', 'bathrooms', 'stories', 'mainroad',\n",
    "       'guestroom', 'basement', 'hotwaterheating', 'airconditioning',\n",
    "       'parking', 'prefarea', 'furnishingstatus']"
   ]
  },
  {
   "cell_type": "code",
   "execution_count": 271,
   "id": "f772370f",
   "metadata": {},
   "outputs": [],
   "source": [
    "data_train_ml = data_train[module_features]\n",
    "data_test_ml = data_test[module_features]\n",
    "data_train_full_ml = data_train_full[module_features]\n",
    "data_valid_ml = data_valid[module_features]"
   ]
  },
  {
   "cell_type": "code",
   "execution_count": 272,
   "id": "dac14479",
   "metadata": {},
   "outputs": [
    {
     "data": {
      "text/plain": [
       "array([[6480,    3,    2, ...,    2,    1,    1],\n",
       "       [6720,    3,    1, ...,    0,    1,    1],\n",
       "       [2400,    3,    1, ...,    0,    0,    2],\n",
       "       ...,\n",
       "       [7000,    3,    1, ...,    0,    1,    1],\n",
       "       [3650,    3,    2, ...,    2,    1,    2],\n",
       "       [8875,    3,    1, ...,    1,    1,    2]])"
      ]
     },
     "execution_count": 272,
     "metadata": {},
     "output_type": "execute_result"
    }
   ],
   "source": [
    "# extracting my values for module features\n",
    "data_train_ml.values"
   ]
  },
  {
   "cell_type": "code",
   "execution_count": 273,
   "id": "09aa5a94",
   "metadata": {},
   "outputs": [
    {
     "data": {
      "text/plain": [
       "array([[6480,    3,    2, ...,    2,    1,    1],\n",
       "       [6720,    3,    1, ...,    0,    1,    1],\n",
       "       [2400,    3,    1, ...,    0,    0,    2],\n",
       "       ...,\n",
       "       [7000,    3,    1, ...,    0,    1,    1],\n",
       "       [3650,    3,    2, ...,    2,    1,    2],\n",
       "       [8875,    3,    1, ...,    1,    1,    2]])"
      ]
     },
     "execution_count": 273,
     "metadata": {},
     "output_type": "execute_result"
    }
   ],
   "source": [
    "x_train_ml = data_train_ml.values\n",
    "x_train_ml"
   ]
  },
  {
   "cell_type": "code",
   "execution_count": 274,
   "id": "7125a310",
   "metadata": {},
   "outputs": [
    {
     "data": {
      "text/html": [
       "<style>#sk-container-id-3 {color: black;background-color: white;}#sk-container-id-3 pre{padding: 0;}#sk-container-id-3 div.sk-toggleable {background-color: white;}#sk-container-id-3 label.sk-toggleable__label {cursor: pointer;display: block;width: 100%;margin-bottom: 0;padding: 0.3em;box-sizing: border-box;text-align: center;}#sk-container-id-3 label.sk-toggleable__label-arrow:before {content: \"▸\";float: left;margin-right: 0.25em;color: #696969;}#sk-container-id-3 label.sk-toggleable__label-arrow:hover:before {color: black;}#sk-container-id-3 div.sk-estimator:hover label.sk-toggleable__label-arrow:before {color: black;}#sk-container-id-3 div.sk-toggleable__content {max-height: 0;max-width: 0;overflow: hidden;text-align: left;background-color: #f0f8ff;}#sk-container-id-3 div.sk-toggleable__content pre {margin: 0.2em;color: black;border-radius: 0.25em;background-color: #f0f8ff;}#sk-container-id-3 input.sk-toggleable__control:checked~div.sk-toggleable__content {max-height: 200px;max-width: 100%;overflow: auto;}#sk-container-id-3 input.sk-toggleable__control:checked~label.sk-toggleable__label-arrow:before {content: \"▾\";}#sk-container-id-3 div.sk-estimator input.sk-toggleable__control:checked~label.sk-toggleable__label {background-color: #d4ebff;}#sk-container-id-3 div.sk-label input.sk-toggleable__control:checked~label.sk-toggleable__label {background-color: #d4ebff;}#sk-container-id-3 input.sk-hidden--visually {border: 0;clip: rect(1px 1px 1px 1px);clip: rect(1px, 1px, 1px, 1px);height: 1px;margin: -1px;overflow: hidden;padding: 0;position: absolute;width: 1px;}#sk-container-id-3 div.sk-estimator {font-family: monospace;background-color: #f0f8ff;border: 1px dotted black;border-radius: 0.25em;box-sizing: border-box;margin-bottom: 0.5em;}#sk-container-id-3 div.sk-estimator:hover {background-color: #d4ebff;}#sk-container-id-3 div.sk-parallel-item::after {content: \"\";width: 100%;border-bottom: 1px solid gray;flex-grow: 1;}#sk-container-id-3 div.sk-label:hover label.sk-toggleable__label {background-color: #d4ebff;}#sk-container-id-3 div.sk-serial::before {content: \"\";position: absolute;border-left: 1px solid gray;box-sizing: border-box;top: 0;bottom: 0;left: 50%;z-index: 0;}#sk-container-id-3 div.sk-serial {display: flex;flex-direction: column;align-items: center;background-color: white;padding-right: 0.2em;padding-left: 0.2em;position: relative;}#sk-container-id-3 div.sk-item {position: relative;z-index: 1;}#sk-container-id-3 div.sk-parallel {display: flex;align-items: stretch;justify-content: center;background-color: white;position: relative;}#sk-container-id-3 div.sk-item::before, #sk-container-id-3 div.sk-parallel-item::before {content: \"\";position: absolute;border-left: 1px solid gray;box-sizing: border-box;top: 0;bottom: 0;left: 50%;z-index: -1;}#sk-container-id-3 div.sk-parallel-item {display: flex;flex-direction: column;z-index: 1;position: relative;background-color: white;}#sk-container-id-3 div.sk-parallel-item:first-child::after {align-self: flex-end;width: 50%;}#sk-container-id-3 div.sk-parallel-item:last-child::after {align-self: flex-start;width: 50%;}#sk-container-id-3 div.sk-parallel-item:only-child::after {width: 0;}#sk-container-id-3 div.sk-dashed-wrapped {border: 1px dashed gray;margin: 0 0.4em 0.5em 0.4em;box-sizing: border-box;padding-bottom: 0.4em;background-color: white;}#sk-container-id-3 div.sk-label label {font-family: monospace;font-weight: bold;display: inline-block;line-height: 1.2em;}#sk-container-id-3 div.sk-label-container {text-align: center;}#sk-container-id-3 div.sk-container {/* jupyter's `normalize.less` sets `[hidden] { display: none; }` but bootstrap.min.css set `[hidden] { display: none !important; }` so we also need the `!important` here to be able to override the default hidden behavior on the sphinx rendered scikit-learn.org. See: https://github.com/scikit-learn/scikit-learn/issues/21755 */display: inline-block !important;position: relative;}#sk-container-id-3 div.sk-text-repr-fallback {display: none;}</style><div id=\"sk-container-id-3\" class=\"sk-top-container\"><div class=\"sk-text-repr-fallback\"><pre>LinearRegression()</pre><b>In a Jupyter environment, please rerun this cell to show the HTML representation or trust the notebook. <br />On GitHub, the HTML representation is unable to render, please try loading this page with nbviewer.org.</b></div><div class=\"sk-container\" hidden><div class=\"sk-item\"><div class=\"sk-estimator sk-toggleable\"><input class=\"sk-toggleable__control sk-hidden--visually\" id=\"sk-estimator-id-3\" type=\"checkbox\" checked><label for=\"sk-estimator-id-3\" class=\"sk-toggleable__label sk-toggleable__label-arrow\">LinearRegression</label><div class=\"sk-toggleable__content\"><pre>LinearRegression()</pre></div></div></div></div></div>"
      ],
      "text/plain": [
       "LinearRegression()"
      ]
     },
     "execution_count": 274,
     "metadata": {},
     "output_type": "execute_result"
    }
   ],
   "source": [
    "model = LinearRegression()\n",
    "model.fit(x_train_ml, y_train)"
   ]
  },
  {
   "cell_type": "code",
   "execution_count": 275,
   "id": "28331bd1",
   "metadata": {},
   "outputs": [
    {
     "data": {
      "text/html": [
       "<div>\n",
       "<style scoped>\n",
       "    .dataframe tbody tr th:only-of-type {\n",
       "        vertical-align: middle;\n",
       "    }\n",
       "\n",
       "    .dataframe tbody tr th {\n",
       "        vertical-align: top;\n",
       "    }\n",
       "\n",
       "    .dataframe thead th {\n",
       "        text-align: right;\n",
       "    }\n",
       "</style>\n",
       "<table border=\"1\" class=\"dataframe\">\n",
       "  <thead>\n",
       "    <tr style=\"text-align: right;\">\n",
       "      <th></th>\n",
       "      <th>area</th>\n",
       "      <th>bedrooms</th>\n",
       "      <th>bathrooms</th>\n",
       "      <th>stories</th>\n",
       "      <th>mainroad</th>\n",
       "      <th>guestroom</th>\n",
       "      <th>basement</th>\n",
       "      <th>hotwaterheating</th>\n",
       "      <th>airconditioning</th>\n",
       "      <th>parking</th>\n",
       "      <th>prefarea</th>\n",
       "      <th>furnishingstatus</th>\n",
       "    </tr>\n",
       "  </thead>\n",
       "  <tbody>\n",
       "    <tr>\n",
       "      <th>409</th>\n",
       "      <td>3185</td>\n",
       "      <td>2</td>\n",
       "      <td>1</td>\n",
       "      <td>1</td>\n",
       "      <td>1</td>\n",
       "      <td>0</td>\n",
       "      <td>0</td>\n",
       "      <td>0</td>\n",
       "      <td>1</td>\n",
       "      <td>2</td>\n",
       "      <td>1</td>\n",
       "      <td>1</td>\n",
       "    </tr>\n",
       "    <tr>\n",
       "      <th>149</th>\n",
       "      <td>6600</td>\n",
       "      <td>4</td>\n",
       "      <td>2</td>\n",
       "      <td>1</td>\n",
       "      <td>1</td>\n",
       "      <td>0</td>\n",
       "      <td>1</td>\n",
       "      <td>0</td>\n",
       "      <td>1</td>\n",
       "      <td>0</td>\n",
       "      <td>1</td>\n",
       "      <td>2</td>\n",
       "    </tr>\n",
       "    <tr>\n",
       "      <th>332</th>\n",
       "      <td>5500</td>\n",
       "      <td>4</td>\n",
       "      <td>1</td>\n",
       "      <td>2</td>\n",
       "      <td>1</td>\n",
       "      <td>1</td>\n",
       "      <td>1</td>\n",
       "      <td>0</td>\n",
       "      <td>1</td>\n",
       "      <td>0</td>\n",
       "      <td>1</td>\n",
       "      <td>2</td>\n",
       "    </tr>\n",
       "    <tr>\n",
       "      <th>215</th>\n",
       "      <td>4160</td>\n",
       "      <td>3</td>\n",
       "      <td>1</td>\n",
       "      <td>3</td>\n",
       "      <td>1</td>\n",
       "      <td>0</td>\n",
       "      <td>0</td>\n",
       "      <td>0</td>\n",
       "      <td>1</td>\n",
       "      <td>0</td>\n",
       "      <td>1</td>\n",
       "      <td>1</td>\n",
       "    </tr>\n",
       "    <tr>\n",
       "      <th>13</th>\n",
       "      <td>3500</td>\n",
       "      <td>4</td>\n",
       "      <td>2</td>\n",
       "      <td>2</td>\n",
       "      <td>1</td>\n",
       "      <td>0</td>\n",
       "      <td>0</td>\n",
       "      <td>1</td>\n",
       "      <td>1</td>\n",
       "      <td>2</td>\n",
       "      <td>1</td>\n",
       "      <td>3</td>\n",
       "    </tr>\n",
       "    <tr>\n",
       "      <th>...</th>\n",
       "      <td>...</td>\n",
       "      <td>...</td>\n",
       "      <td>...</td>\n",
       "      <td>...</td>\n",
       "      <td>...</td>\n",
       "      <td>...</td>\n",
       "      <td>...</td>\n",
       "      <td>...</td>\n",
       "      <td>...</td>\n",
       "      <td>...</td>\n",
       "      <td>...</td>\n",
       "      <td>...</td>\n",
       "    </tr>\n",
       "    <tr>\n",
       "      <th>473</th>\n",
       "      <td>8050</td>\n",
       "      <td>2</td>\n",
       "      <td>1</td>\n",
       "      <td>1</td>\n",
       "      <td>1</td>\n",
       "      <td>0</td>\n",
       "      <td>0</td>\n",
       "      <td>0</td>\n",
       "      <td>1</td>\n",
       "      <td>0</td>\n",
       "      <td>1</td>\n",
       "      <td>1</td>\n",
       "    </tr>\n",
       "    <tr>\n",
       "      <th>102</th>\n",
       "      <td>5500</td>\n",
       "      <td>3</td>\n",
       "      <td>2</td>\n",
       "      <td>4</td>\n",
       "      <td>1</td>\n",
       "      <td>1</td>\n",
       "      <td>0</td>\n",
       "      <td>0</td>\n",
       "      <td>1</td>\n",
       "      <td>1</td>\n",
       "      <td>1</td>\n",
       "      <td>2</td>\n",
       "    </tr>\n",
       "    <tr>\n",
       "      <th>374</th>\n",
       "      <td>3520</td>\n",
       "      <td>2</td>\n",
       "      <td>2</td>\n",
       "      <td>1</td>\n",
       "      <td>1</td>\n",
       "      <td>0</td>\n",
       "      <td>1</td>\n",
       "      <td>0</td>\n",
       "      <td>1</td>\n",
       "      <td>0</td>\n",
       "      <td>1</td>\n",
       "      <td>2</td>\n",
       "    </tr>\n",
       "    <tr>\n",
       "      <th>400</th>\n",
       "      <td>3512</td>\n",
       "      <td>2</td>\n",
       "      <td>1</td>\n",
       "      <td>1</td>\n",
       "      <td>1</td>\n",
       "      <td>0</td>\n",
       "      <td>0</td>\n",
       "      <td>0</td>\n",
       "      <td>1</td>\n",
       "      <td>1</td>\n",
       "      <td>1</td>\n",
       "      <td>1</td>\n",
       "    </tr>\n",
       "    <tr>\n",
       "      <th>80</th>\n",
       "      <td>6000</td>\n",
       "      <td>3</td>\n",
       "      <td>1</td>\n",
       "      <td>2</td>\n",
       "      <td>1</td>\n",
       "      <td>0</td>\n",
       "      <td>0</td>\n",
       "      <td>1</td>\n",
       "      <td>1</td>\n",
       "      <td>1</td>\n",
       "      <td>1</td>\n",
       "      <td>2</td>\n",
       "    </tr>\n",
       "  </tbody>\n",
       "</table>\n",
       "<p>88 rows × 12 columns</p>\n",
       "</div>"
      ],
      "text/plain": [
       "     area  bedrooms  bathrooms  stories  mainroad  guestroom  basement  \\\n",
       "409  3185         2          1        1         1          0         0   \n",
       "149  6600         4          2        1         1          0         1   \n",
       "332  5500         4          1        2         1          1         1   \n",
       "215  4160         3          1        3         1          0         0   \n",
       "13   3500         4          2        2         1          0         0   \n",
       "..    ...       ...        ...      ...       ...        ...       ...   \n",
       "473  8050         2          1        1         1          0         0   \n",
       "102  5500         3          2        4         1          1         0   \n",
       "374  3520         2          2        1         1          0         1   \n",
       "400  3512         2          1        1         1          0         0   \n",
       "80   6000         3          1        2         1          0         0   \n",
       "\n",
       "     hotwaterheating  airconditioning  parking  prefarea  furnishingstatus  \n",
       "409                0                1        2         1                 1  \n",
       "149                0                1        0         1                 2  \n",
       "332                0                1        0         1                 2  \n",
       "215                0                1        0         1                 1  \n",
       "13                 1                1        2         1                 3  \n",
       "..               ...              ...      ...       ...               ...  \n",
       "473                0                1        0         1                 1  \n",
       "102                0                1        1         1                 2  \n",
       "374                0                1        0         1                 2  \n",
       "400                0                1        1         1                 1  \n",
       "80                 1                1        1         1                 2  \n",
       "\n",
       "[88 rows x 12 columns]"
      ]
     },
     "execution_count": 275,
     "metadata": {},
     "output_type": "execute_result"
    }
   ],
   "source": [
    "data_valid_ml= data_valid[module_features]\n",
    "data_valid_ml"
   ]
  },
  {
   "cell_type": "code",
   "execution_count": 276,
   "id": "708f9bba",
   "metadata": {},
   "outputs": [
    {
     "data": {
      "text/plain": [
       "array([[3185,    2,    1, ...,    2,    1,    1],\n",
       "       [6600,    4,    2, ...,    0,    1,    2],\n",
       "       [5500,    4,    1, ...,    0,    1,    2],\n",
       "       ...,\n",
       "       [3520,    2,    2, ...,    0,    1,    2],\n",
       "       [3512,    2,    1, ...,    1,    1,    1],\n",
       "       [6000,    3,    1, ...,    1,    1,    2]])"
      ]
     },
     "execution_count": 276,
     "metadata": {},
     "output_type": "execute_result"
    }
   ],
   "source": [
    "x_valid_ml = data_valid_ml.values\n",
    "x_valid_ml"
   ]
  },
  {
   "cell_type": "code",
   "execution_count": 277,
   "id": "0ac10b3e",
   "metadata": {},
   "outputs": [
    {
     "data": {
      "text/plain": [
       "array([15.00054462, 15.51688088, 15.50316862, 15.18887872, 15.45691059,\n",
       "       15.32131198, 15.08928422, 15.5910457 , 15.36013761, 15.41851013,\n",
       "       15.44141521, 14.93112641, 15.59609436, 15.32649025, 15.8516436 ,\n",
       "       14.95938403, 15.50963309, 15.54792047, 14.94681467, 15.06291435,\n",
       "       15.50517923, 15.02561213, 15.16402944, 15.30775462, 15.04482136,\n",
       "       15.61843239, 15.07363932, 15.42744662, 15.8256605 , 15.46739167,\n",
       "       15.78305476, 15.73919163, 15.02690626, 15.98565432, 15.20995929,\n",
       "       15.09843905, 15.01508501, 15.22601242, 15.63787674, 15.49220764,\n",
       "       15.04804618, 15.10136013, 15.08881124, 14.88647896, 15.33156978,\n",
       "       15.2096226 , 15.61229862, 15.55388666, 14.93327051, 15.24656557,\n",
       "       15.74099965, 15.29400319, 15.38308764, 15.09313799, 15.35922829,\n",
       "       15.15997403, 15.7981359 , 15.71169641, 15.52914129, 15.17767936,\n",
       "       15.26259646, 15.05377272, 15.25580106, 15.10259538, 14.85611005,\n",
       "       14.94905581, 15.22554456, 16.01300812, 14.98529142, 15.17357669,\n",
       "       15.17905104, 15.7101502 , 15.61396054, 14.93759705, 15.83147791,\n",
       "       15.44916354, 15.25352325, 15.76850366, 14.82472239, 15.09903772,\n",
       "       15.32893366, 15.4310875 , 16.06949113, 15.18523436, 15.82046447,\n",
       "       15.26932544, 14.95665005, 15.28951148])"
      ]
     },
     "execution_count": 277,
     "metadata": {},
     "output_type": "execute_result"
    }
   ],
   "source": [
    "y_valid_pred = model.predict(x_valid_ml)\n",
    "y_valid_pred"
   ]
  },
  {
   "cell_type": "code",
   "execution_count": 278,
   "id": "42a02597",
   "metadata": {},
   "outputs": [
    {
     "data": {
      "text/plain": [
       "0.5629996247756521"
      ]
     },
     "execution_count": 278,
     "metadata": {},
     "output_type": "execute_result"
    }
   ],
   "source": [
    "acc_score = model.score(x_valid_ml, y_valid)\n",
    "acc_score"
   ]
  },
  {
   "cell_type": "code",
   "execution_count": 279,
   "id": "ef81288d",
   "metadata": {},
   "outputs": [
    {
     "data": {
      "text/plain": [
       "0.5629996247756521"
      ]
     },
     "execution_count": 279,
     "metadata": {},
     "output_type": "execute_result"
    }
   ],
   "source": [
    "rsquared_acc= r2_score(y_valid, y_valid_pred)\n",
    "rsquared_acc"
   ]
  },
  {
   "cell_type": "code",
   "execution_count": 283,
   "id": "a0b98a61",
   "metadata": {},
   "outputs": [
    {
     "data": {
      "text/plain": [
       "array([[5400,    4,    2, ...,    2,    1,    1],\n",
       "       [3000,    3,    2, ...,    0,    1,    3],\n",
       "       [5960,    3,    1, ...,    0,    1,    1],\n",
       "       ...,\n",
       "       [3630,    2,    1, ...,    0,    1,    3],\n",
       "       [3630,    2,    1, ...,    0,    1,    1],\n",
       "       [6000,    3,    2, ...,    0,    1,    2]])"
      ]
     },
     "execution_count": 283,
     "metadata": {},
     "output_type": "execute_result"
    }
   ],
   "source": [
    "data_test_ml = data_test[module_features]\n",
    "data_test_ml\n",
    "x_test_ml = data_test_ml.values\n",
    "x_test_ml"
   ]
  },
  {
   "cell_type": "code",
   "execution_count": 284,
   "id": "1a0c74b2",
   "metadata": {},
   "outputs": [
    {
     "data": {
      "text/plain": [
       "array([15.49011914, 15.55725458, 15.45120075, 15.44012566, 15.73351651,\n",
       "       15.90850287, 14.7544923 , 15.55952091, 15.82834618, 14.94712893,\n",
       "       15.17521794, 14.98077628, 15.22606142, 15.15007966, 14.96689305,\n",
       "       15.68431886, 15.55508535, 15.20611832, 15.25298014, 15.32749131,\n",
       "       14.87554929, 15.03351204, 14.9139832 , 15.95666289, 15.26965438,\n",
       "       15.19536981, 14.86965528, 15.08879693, 15.21970761, 15.0121825 ,\n",
       "       15.08945831, 15.23523622, 15.35874281, 15.10653664, 15.06770419,\n",
       "       14.95766005, 15.41295357, 14.90307311, 15.08304992, 15.75271516,\n",
       "       15.07229549, 16.12866988, 15.38490428, 15.848946  , 15.60678523,\n",
       "       15.80327106, 15.3490301 , 15.30614014, 15.58832436, 15.19082405,\n",
       "       14.96513133, 15.25111289, 14.87011394, 15.6635318 , 15.73863846,\n",
       "       15.12293157, 15.38207518, 15.01505233, 15.33301059, 14.9548937 ,\n",
       "       15.28972477, 15.46642178, 14.76031588, 15.00393445, 15.20442258,\n",
       "       15.13118825, 14.97258166, 15.64810806, 14.98647401, 15.45736287,\n",
       "       15.81551237, 15.34737622, 15.62159503, 15.2008397 , 15.69349593,\n",
       "       15.17553219, 14.80140448, 15.02253553, 15.19194916, 15.59353013,\n",
       "       15.75672454, 14.97170307, 15.41622182, 15.51276991, 15.35751931,\n",
       "       15.47453538, 15.43958912, 14.92576149, 15.76417506, 16.26535027,\n",
       "       14.6910315 , 15.12580335, 15.19304038, 14.89082001, 15.49920285,\n",
       "       15.49649732, 15.17121428, 15.45726616, 15.37994408, 14.9279851 ,\n",
       "       14.97107031, 15.10970571, 15.81511519, 14.96348363, 15.37743239,\n",
       "       15.02302788, 15.15166737, 14.89923185, 15.92499355])"
      ]
     },
     "execution_count": 284,
     "metadata": {},
     "output_type": "execute_result"
    }
   ],
   "source": [
    "y_test_pred = model.predict(x_test_ml)\n",
    "y_test_pred"
   ]
  },
  {
   "cell_type": "code",
   "execution_count": 280,
   "id": "fe009af2",
   "metadata": {},
   "outputs": [],
   "source": [
    "# comparing rhe two values indicates that there was an accurate prediction"
   ]
  },
  {
   "cell_type": "code",
   "execution_count": 281,
   "id": "b88c0b5d",
   "metadata": {},
   "outputs": [
    {
     "ename": "NameError",
     "evalue": "name 'x_train' is not defined",
     "output_type": "error",
     "traceback": [
      "\u001b[0;31m---------------------------------------------------------------------------\u001b[0m",
      "\u001b[0;31mNameError\u001b[0m                                 Traceback (most recent call last)",
      "Cell \u001b[0;32mIn[281], line 3\u001b[0m\n\u001b[1;32m      1\u001b[0m \u001b[38;5;66;03m#Naive Bayes\u001b[39;00m\n\u001b[1;32m      2\u001b[0m naive_bayes_gaussian \u001b[38;5;241m=\u001b[39m GaussianNB()\n\u001b[0;32m----> 3\u001b[0m naive_bayes_gaussian\u001b[38;5;241m.\u001b[39mfit(x_train, y_train)\n\u001b[1;32m      4\u001b[0m nbg_pred \u001b[38;5;241m=\u001b[39m naive_bayes_gaussian\u001b[38;5;241m.\u001b[39mpredict(x_test)\n\u001b[1;32m      5\u001b[0m nbg_accuracy \u001b[38;5;241m=\u001b[39m accuracy_score(y_test , nbg_pred)\u001b[38;5;241m*\u001b[39m\u001b[38;5;241m100\u001b[39m\n",
      "\u001b[0;31mNameError\u001b[0m: name 'x_train' is not defined"
     ]
    }
   ],
   "source": [
    "#Naive Bayes\n",
    "naive_bayes_gaussian = GaussianNB()\n",
    "naive_bayes_gaussian.fit(x_train, y_train)\n",
    "nbg_pred = naive_bayes_gaussian.predict(x_test)\n",
    "nbg_accuracy = accuracy_score(y_test , nbg_pred)*100\n",
    "nbg_accuracy"
   ]
  },
  {
   "cell_type": "code",
   "execution_count": null,
   "id": "47d5f88e",
   "metadata": {},
   "outputs": [],
   "source": []
  }
 ],
 "metadata": {
  "kernelspec": {
   "display_name": "Python 3 (ipykernel)",
   "language": "python",
   "name": "python3"
  },
  "language_info": {
   "codemirror_mode": {
    "name": "ipython",
    "version": 3
   },
   "file_extension": ".py",
   "mimetype": "text/x-python",
   "name": "python",
   "nbconvert_exporter": "python",
   "pygments_lexer": "ipython3",
   "version": "3.11.7"
  }
 },
 "nbformat": 4,
 "nbformat_minor": 5
}
